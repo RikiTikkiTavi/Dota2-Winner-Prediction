{
 "cells": [
  {
   "cell_type": "markdown",
   "metadata": {},
   "source": [
    "## Подход 1. Градиентный бустинг \"в лоб\""
   ]
  },
  {
   "cell_type": "code",
   "execution_count": 15,
   "metadata": {},
   "outputs": [],
   "source": [
    "import pandas as pd\n",
    "import numpy as np\n",
    "from src.utils import out\n",
    "from scipy import stats\n",
    "from sklearn.preprocessing import StandardScaler\n",
    "import datetime\n",
    "from sklearn.model_selection import KFold\n",
    "from sklearn.ensemble import GradientBoostingClassifier\n",
    "from sklearn.linear_model import LogisticRegression\n",
    "from sklearn.metrics import roc_auc_score\n",
    "import numpy as np\n",
    "from joblib import dump, load\n",
    "import pandas as pd\n",
    "\n",
    "class CList:\n",
    "    def __init__(self, start, stop, step):\n",
    "        self.start = start\n",
    "        self.stop = stop\n",
    "        self.step = step\n",
    "    def __iter__(self):\n",
    "        self.c = self.start\n",
    "        return self\n",
    "    def __next__(self):\n",
    "        if self.c <= self.stop:\n",
    "            x = self.c\n",
    "            self.c += self.step\n",
    "            return x\n",
    "        else:\n",
    "            raise StopIteration"
   ]
  },
  {
   "cell_type": "markdown",
   "metadata": {},
   "source": [
    "1."
   ]
  },
  {
   "cell_type": "markdown",
   "metadata": {},
   "source": [
    "Считать таблицу с признаками из файла.\n",
    "Уменьшить колличество векторов в 3 раза для ускорения кросс валидации."
   ]
  },
  {
   "cell_type": "code",
   "execution_count": 37,
   "metadata": {},
   "outputs": [],
   "source": [
    "data = pd.read_csv('./features.csv', index_col='match_id')\n",
    "data = data.sample(n=round(len(features.index) / 3))"
   ]
  },
  {
   "cell_type": "code",
   "execution_count": 38,
   "metadata": {
    "scrolled": true
   },
   "outputs": [
    {
     "data": {
      "text/html": [
       "<div>\n",
       "<style scoped>\n",
       "    .dataframe tbody tr th:only-of-type {\n",
       "        vertical-align: middle;\n",
       "    }\n",
       "\n",
       "    .dataframe tbody tr th {\n",
       "        vertical-align: top;\n",
       "    }\n",
       "\n",
       "    .dataframe thead th {\n",
       "        text-align: right;\n",
       "    }\n",
       "</style>\n",
       "<table border=\"1\" class=\"dataframe\">\n",
       "  <thead>\n",
       "    <tr style=\"text-align: right;\">\n",
       "      <th></th>\n",
       "      <th>start_time</th>\n",
       "      <th>lobby_type</th>\n",
       "      <th>r1_hero</th>\n",
       "      <th>r1_level</th>\n",
       "      <th>r1_xp</th>\n",
       "      <th>r1_gold</th>\n",
       "      <th>r1_lh</th>\n",
       "      <th>r1_kills</th>\n",
       "      <th>r1_deaths</th>\n",
       "      <th>r1_items</th>\n",
       "      <th>...</th>\n",
       "      <th>dire_boots_count</th>\n",
       "      <th>dire_ward_observer_count</th>\n",
       "      <th>dire_ward_sentry_count</th>\n",
       "      <th>dire_first_ward_time</th>\n",
       "      <th>duration</th>\n",
       "      <th>radiant_win</th>\n",
       "      <th>tower_status_radiant</th>\n",
       "      <th>tower_status_dire</th>\n",
       "      <th>barracks_status_radiant</th>\n",
       "      <th>barracks_status_dire</th>\n",
       "    </tr>\n",
       "    <tr>\n",
       "      <th>match_id</th>\n",
       "      <th></th>\n",
       "      <th></th>\n",
       "      <th></th>\n",
       "      <th></th>\n",
       "      <th></th>\n",
       "      <th></th>\n",
       "      <th></th>\n",
       "      <th></th>\n",
       "      <th></th>\n",
       "      <th></th>\n",
       "      <th></th>\n",
       "      <th></th>\n",
       "      <th></th>\n",
       "      <th></th>\n",
       "      <th></th>\n",
       "      <th></th>\n",
       "      <th></th>\n",
       "      <th></th>\n",
       "      <th></th>\n",
       "      <th></th>\n",
       "      <th></th>\n",
       "    </tr>\n",
       "  </thead>\n",
       "  <tbody>\n",
       "    <tr>\n",
       "      <th>1468</th>\n",
       "      <td>1431032282</td>\n",
       "      <td>1</td>\n",
       "      <td>25</td>\n",
       "      <td>5</td>\n",
       "      <td>1807</td>\n",
       "      <td>1106</td>\n",
       "      <td>12</td>\n",
       "      <td>0</td>\n",
       "      <td>1</td>\n",
       "      <td>7</td>\n",
       "      <td>...</td>\n",
       "      <td>3</td>\n",
       "      <td>2</td>\n",
       "      <td>1</td>\n",
       "      <td>-41.0</td>\n",
       "      <td>1328</td>\n",
       "      <td>1</td>\n",
       "      <td>1975</td>\n",
       "      <td>1796</td>\n",
       "      <td>63</td>\n",
       "      <td>59</td>\n",
       "    </tr>\n",
       "    <tr>\n",
       "      <th>39325</th>\n",
       "      <td>1443324979</td>\n",
       "      <td>1</td>\n",
       "      <td>50</td>\n",
       "      <td>3</td>\n",
       "      <td>1078</td>\n",
       "      <td>849</td>\n",
       "      <td>10</td>\n",
       "      <td>0</td>\n",
       "      <td>0</td>\n",
       "      <td>9</td>\n",
       "      <td>...</td>\n",
       "      <td>5</td>\n",
       "      <td>3</td>\n",
       "      <td>0</td>\n",
       "      <td>-46.0</td>\n",
       "      <td>2738</td>\n",
       "      <td>0</td>\n",
       "      <td>1792</td>\n",
       "      <td>1974</td>\n",
       "      <td>50</td>\n",
       "      <td>63</td>\n",
       "    </tr>\n",
       "    <tr>\n",
       "      <th>55206</th>\n",
       "      <td>1445954799</td>\n",
       "      <td>7</td>\n",
       "      <td>86</td>\n",
       "      <td>3</td>\n",
       "      <td>894</td>\n",
       "      <td>598</td>\n",
       "      <td>1</td>\n",
       "      <td>0</td>\n",
       "      <td>0</td>\n",
       "      <td>9</td>\n",
       "      <td>...</td>\n",
       "      <td>2</td>\n",
       "      <td>3</td>\n",
       "      <td>1</td>\n",
       "      <td>25.0</td>\n",
       "      <td>2739</td>\n",
       "      <td>1</td>\n",
       "      <td>1958</td>\n",
       "      <td>4</td>\n",
       "      <td>63</td>\n",
       "      <td>3</td>\n",
       "    </tr>\n",
       "    <tr>\n",
       "      <th>43870</th>\n",
       "      <td>1444068935</td>\n",
       "      <td>7</td>\n",
       "      <td>48</td>\n",
       "      <td>4</td>\n",
       "      <td>1307</td>\n",
       "      <td>1624</td>\n",
       "      <td>24</td>\n",
       "      <td>0</td>\n",
       "      <td>0</td>\n",
       "      <td>8</td>\n",
       "      <td>...</td>\n",
       "      <td>4</td>\n",
       "      <td>2</td>\n",
       "      <td>0</td>\n",
       "      <td>6.0</td>\n",
       "      <td>1735</td>\n",
       "      <td>1</td>\n",
       "      <td>1983</td>\n",
       "      <td>260</td>\n",
       "      <td>63</td>\n",
       "      <td>51</td>\n",
       "    </tr>\n",
       "    <tr>\n",
       "      <th>105691</th>\n",
       "      <td>1449725601</td>\n",
       "      <td>1</td>\n",
       "      <td>20</td>\n",
       "      <td>4</td>\n",
       "      <td>1467</td>\n",
       "      <td>1227</td>\n",
       "      <td>17</td>\n",
       "      <td>0</td>\n",
       "      <td>2</td>\n",
       "      <td>15</td>\n",
       "      <td>...</td>\n",
       "      <td>4</td>\n",
       "      <td>2</td>\n",
       "      <td>0</td>\n",
       "      <td>-37.0</td>\n",
       "      <td>2230</td>\n",
       "      <td>0</td>\n",
       "      <td>1824</td>\n",
       "      <td>1974</td>\n",
       "      <td>60</td>\n",
       "      <td>63</td>\n",
       "    </tr>\n",
       "  </tbody>\n",
       "</table>\n",
       "<p>5 rows × 108 columns</p>\n",
       "</div>"
      ],
      "text/plain": [
       "          start_time  lobby_type  r1_hero  r1_level  r1_xp  r1_gold  r1_lh  \\\n",
       "match_id                                                                     \n",
       "1468      1431032282           1       25         5   1807     1106     12   \n",
       "39325     1443324979           1       50         3   1078      849     10   \n",
       "55206     1445954799           7       86         3    894      598      1   \n",
       "43870     1444068935           7       48         4   1307     1624     24   \n",
       "105691    1449725601           1       20         4   1467     1227     17   \n",
       "\n",
       "          r1_kills  r1_deaths  r1_items          ...           \\\n",
       "match_id                                         ...            \n",
       "1468             0          1         7          ...            \n",
       "39325            0          0         9          ...            \n",
       "55206            0          0         9          ...            \n",
       "43870            0          0         8          ...            \n",
       "105691           0          2        15          ...            \n",
       "\n",
       "          dire_boots_count  dire_ward_observer_count  dire_ward_sentry_count  \\\n",
       "match_id                                                                       \n",
       "1468                     3                         2                       1   \n",
       "39325                    5                         3                       0   \n",
       "55206                    2                         3                       1   \n",
       "43870                    4                         2                       0   \n",
       "105691                   4                         2                       0   \n",
       "\n",
       "          dire_first_ward_time  duration  radiant_win  tower_status_radiant  \\\n",
       "match_id                                                                      \n",
       "1468                     -41.0      1328            1                  1975   \n",
       "39325                    -46.0      2738            0                  1792   \n",
       "55206                     25.0      2739            1                  1958   \n",
       "43870                      6.0      1735            1                  1983   \n",
       "105691                   -37.0      2230            0                  1824   \n",
       "\n",
       "          tower_status_dire  barracks_status_radiant  barracks_status_dire  \n",
       "match_id                                                                    \n",
       "1468                   1796                       63                    59  \n",
       "39325                  1974                       50                    63  \n",
       "55206                     4                       63                     3  \n",
       "43870                   260                       63                    51  \n",
       "105691                 1974                       60                    63  \n",
       "\n",
       "[5 rows x 108 columns]"
      ]
     },
     "execution_count": 38,
     "metadata": {},
     "output_type": "execute_result"
    }
   ],
   "source": [
    "data.head()"
   ]
  },
  {
   "cell_type": "markdown",
   "metadata": {},
   "source": [
    "Удалить признаки связанные с итогами матча"
   ]
  },
  {
   "cell_type": "code",
   "execution_count": 39,
   "metadata": {},
   "outputs": [],
   "source": [
    "columns_to_drop = ['duration', 'tower_status_radiant', 'tower_status_dire',\n",
    "                       'barracks_status_radiant',\n",
    "                       'barracks_status_dire']\n",
    "data = data.drop(columns_to_drop, axis=1)"
   ]
  },
  {
   "cell_type": "markdown",
   "metadata": {},
   "source": [
    "2."
   ]
  },
  {
   "cell_type": "markdown",
   "metadata": {},
   "source": [
    "Проверить выборку на наличие пропусков"
   ]
  },
  {
   "cell_type": "code",
   "execution_count": 40,
   "metadata": {},
   "outputs": [
    {
     "data": {
      "text/plain": [
       "['first_blood_time',\n",
       " 'first_blood_team',\n",
       " 'first_blood_player1',\n",
       " 'first_blood_player2',\n",
       " 'radiant_bottle_time',\n",
       " 'radiant_courier_time',\n",
       " 'radiant_flying_courier_time',\n",
       " 'radiant_first_ward_time',\n",
       " 'dire_bottle_time',\n",
       " 'dire_courier_time',\n",
       " 'dire_flying_courier_time',\n",
       " 'dire_first_ward_time']"
      ]
     },
     "execution_count": 40,
     "metadata": {},
     "output_type": "execute_result"
    }
   ],
   "source": [
    "values_full = data.count()\n",
    "rows_quantity = data.shape[0]\n",
    "columns_with_empty = []\n",
    "for column, length in values_full.iteritems():\n",
    "    if rows_quantity - length > 0:\n",
    "        columns_with_empty.append(column)\n",
    "columns_with_empty"
   ]
  },
  {
   "cell_type": "markdown",
   "metadata": {},
   "source": [
    "Данные колонки имеют пропущенные значения, по скольку не всегда описуемые данными колонками события происходят в первые 5 минут игры."
   ]
  },
  {
   "cell_type": "markdown",
   "metadata": {},
   "source": [
    "3."
   ]
  },
  {
   "cell_type": "markdown",
   "metadata": {},
   "source": [
    "Заменить пропуски на 0"
   ]
  },
  {
   "cell_type": "code",
   "execution_count": 41,
   "metadata": {},
   "outputs": [],
   "source": [
    "value = 0\n",
    "data[columns_with_empty] = data[columns_with_empty].fillna(value=value, inplace=False)"
   ]
  },
  {
   "cell_type": "markdown",
   "metadata": {},
   "source": [
    "4.\n",
    "Отделить колонку с целевой переменной.\n",
    "X - фичи\n",
    "y - целевая переменная, колонка 'radiant_win'"
   ]
  },
  {
   "cell_type": "code",
   "execution_count": 42,
   "metadata": {},
   "outputs": [],
   "source": [
    "y = data[[\"radiant_win\"]].values.ravel()\n",
    "X = data.drop([\"radiant_win\"], axis=1).values"
   ]
  },
  {
   "cell_type": "markdown",
   "metadata": {},
   "source": [
    "5.\n",
    "Фиксировать генератор разбиений по 5 блокам"
   ]
  },
  {
   "cell_type": "code",
   "execution_count": 43,
   "metadata": {},
   "outputs": [],
   "source": [
    "kf = KFold(n_splits=5, shuffle=True)"
   ]
  },
  {
   "cell_type": "markdown",
   "metadata": {},
   "source": [
    "Оценить качество градиентного бустинга при разном колличестве деревьев"
   ]
  },
  {
   "cell_type": "code",
   "execution_count": 44,
   "metadata": {},
   "outputs": [
    {
     "name": "stdout",
     "output_type": "stream",
     "text": [
      "Trees quantity: 10\n",
      "Time: 0:00:30.832353\n",
      "Quality AUC-ROC: 0.6883560001959085\n",
      "Trees quantity: 20\n",
      "Time: 0:00:31.470342\n",
      "Quality AUC-ROC: 0.6888734059306336\n",
      "Trees quantity: 30\n",
      "Time: 0:00:30.793391\n",
      "Quality AUC-ROC: 0.6889569129140193\n"
     ]
    }
   ],
   "source": [
    "n_estimators = 40\n",
    "gb_trees_step = 10\n",
    "qualities = []\n",
    "for i in range(gb_trees_step, n_estimators, gb_trees_step):\n",
    "    start_time = datetime.datetime.now()\n",
    "    clf = GradientBoostingClassifier(n_estimators=n_estimators)\n",
    "    qualities_n_estimators = []\n",
    "    for train_index, test_index in kf.split(X):\n",
    "        x_train, x_test = X[train_index], X[test_index]\n",
    "        y_train, y_test = y[train_index], y[test_index]\n",
    "        clf = clf.fit(x_train, y_train)\n",
    "        predictions = clf.predict_proba(x_test)[:, 1]\n",
    "        qualities_n_estimators.append(roc_auc_score(y_test, predictions))\n",
    "    mean_quality = np.mean(qualities_n_estimators)\n",
    "    qualities.append(mean_quality)\n",
    "    print(\"Trees quantity: \" + str(i))\n",
    "    print('Time:', datetime.datetime.now() - start_time)\n",
    "    print(\"Quality AUC-ROC: \" + str(mean_quality))\n"
   ]
  },
  {
   "cell_type": "markdown",
   "metadata": {},
   "source": [
    "Длительность кросс-валидации для градиентного бустинга с 30 деревьями: 0:00:30.793391\n",
    "Качество по AUC - ROC: 0.6889569129140193"
   ]
  },
  {
   "cell_type": "markdown",
   "metadata": {},
   "source": [
    "В градиентном бустинге имеет смысл использовать больше 30 деревьев, так как это даёт прирост качества"
   ]
  },
  {
   "cell_type": "markdown",
   "metadata": {},
   "source": [
    "Для ускорения обучения можно:\n",
    "1. Уменьшение максимальной глубины деревьев (параметр max_depth)\n",
    "2. Использование случайно выбранной подбвыборки для обучения и кросс-валидации\n",
    "3. Удаление столбцов, feature_importance которых равняется 0 при текущем колличестве деревьев."
   ]
  },
  {
   "cell_type": "markdown",
   "metadata": {},
   "source": [
    "## Подход 2. Логистическая регрессия"
   ]
  },
  {
   "cell_type": "code",
   "execution_count": 119,
   "metadata": {},
   "outputs": [],
   "source": [
    "data = pd.read_csv('./features.csv', index_col='match_id')\n",
    "columns_to_drop = ['duration', 'tower_status_radiant', 'tower_status_dire',\n",
    "                       'barracks_status_radiant',\n",
    "                       'barracks_status_dire']\n",
    "data = data.drop(columns_to_drop, axis=1)\n",
    "data[columns_with_empty] = data[columns_with_empty].fillna(value=0, inplace=False)\n",
    "x_data = data.drop([\"radiant_win\"], axis=1)\n",
    "y = data[[\"radiant_win\"]].values.ravel()\n",
    "X = x_data.values"
   ]
  },
  {
   "cell_type": "markdown",
   "metadata": {},
   "source": [
    "Необходимо масштабировать данные, так как логистическая регрессия чувствительна к выбросам"
   ]
  },
  {
   "cell_type": "code",
   "execution_count": 120,
   "metadata": {},
   "outputs": [
    {
     "data": {
      "text/plain": [
       "array([[-2.54436416,  1.54068827, -1.24422828, ..., -0.55115386,\n",
       "         1.84600409, -1.12149424],\n",
       "       [-2.54045236, -0.92779756, -0.29225805, ...,  0.67817009,\n",
       "         0.43778816,  0.04394713],\n",
       "       [-2.53923104,  1.54068827, -0.5686365 , ...,  0.67817009,\n",
       "         0.43778816,  0.49028637],\n",
       "       ...,\n",
       "       [ 1.09874571, -0.57515673,  1.42743012, ...,  0.67817009,\n",
       "         0.43778816, -0.20401912],\n",
       "       [ 1.09895204, -0.57515673,  1.48884755, ...,  0.67817009,\n",
       "         0.43778816, -0.87352799],\n",
       "       [ 1.1026479 ,  1.54068827, -0.04658831, ..., -0.55115386,\n",
       "        -0.97042777, -0.79913812]])"
      ]
     },
     "execution_count": 120,
     "metadata": {},
     "output_type": "execute_result"
    }
   ],
   "source": [
    "def scale_data(X_train):\n",
    "    scaler = StandardScaler()\n",
    "    scaler.fit(X_train)\n",
    "    StandardScaler(copy=True, with_mean=True, with_std=True)\n",
    "    X_train = scaler.transform(X_train)\n",
    "    return X_train\n",
    "\n",
    "X = scale_data(X)\n",
    "X"
   ]
  },
  {
   "cell_type": "markdown",
   "metadata": {},
   "source": [
    "Код для подборки параметра С и получения лучшего качества вынесен в отдельные функции для удобства."
   ]
  },
  {
   "cell_type": "code",
   "execution_count": 121,
   "metadata": {},
   "outputs": [],
   "source": [
    "def process_lr(kf, X, y, c_list_iterator):\n",
    "    qualities = []\n",
    "    for i, c in enumerate(c_list_iterator):\n",
    "        start_time = datetime.datetime.now()\n",
    "        clf = LogisticRegression(penalty='l2', C=c, solver=\"lbfgs\", max_iter=200)\n",
    "        qualities_c = []\n",
    "        for train_index, test_index in kf.split(X):\n",
    "            x_train, x_test = X[train_index], X[test_index]\n",
    "            y_train, y_test = y[train_index], y[test_index]\n",
    "\n",
    "            clf = clf.fit(x_train, y_train)\n",
    "            predictions = clf.predict_proba(x_test)[:, 1]\n",
    "            qualities_c.append(roc_auc_score(y_test, predictions))\n",
    "\n",
    "        mean_quality = round(np.mean(qualities_c), 5)\n",
    "        qualities.append(mean_quality)\n",
    "\n",
    "        # print(\"C: \" + str(c))\n",
    "        print('Time:', datetime.datetime.now() - start_time)\n",
    "        # print(\"Quality AUC-ROC: \" + str(mean_quality))\n",
    "        # print(\"-\")\n",
    "\n",
    "    return qualities\n",
    "\n",
    "def get_best_quality_c(qualities, start, step):\n",
    "    max_q = max(qualities)\n",
    "    best_c = (qualities.index(max_q) * step) + start\n",
    "    return max_q, best_c"
   ]
  },
  {
   "cell_type": "code",
   "execution_count": 122,
   "metadata": {},
   "outputs": [
    {
     "name": "stdout",
     "output_type": "stream",
     "text": [
      "Time: 0:00:05.510391\n",
      "Time: 0:00:05.384582\n",
      "Time: 0:00:05.461654\n",
      "Time: 0:00:04.666510\n",
      "Time: 0:00:05.536308\n",
      "Time: 0:00:05.862188\n",
      "Time: 0:00:05.193675\n",
      "Time: 0:00:05.194138\n",
      "Time: 0:00:05.033508\n",
      "Time: 0:00:05.281753\n",
      "Time: 0:00:05.155018\n",
      "Time: 0:00:05.251207\n",
      "Time: 0:00:05.195515\n",
      "Time: 0:00:05.310268\n",
      "Time: 0:00:05.612464\n",
      "Max quality:  0.71658\n",
      "Max quality C:  3.2\n"
     ]
    }
   ],
   "source": [
    "kf = KFold(n_splits=5, shuffle=True)\n",
    "start, stop, step = 1, 4, 0.2\n",
    "c_list_iterator = iter(CList(start, stop, step))\n",
    "\n",
    "qualities = process_lr(kf, X, y, c_list_iterator)\n",
    "max_q, best_c = get_best_quality_c(qualities, start, step)\n",
    "\n",
    "print(\"Max quality: \", max_q)\n",
    "print(\"Max quality C: \", best_c)"
   ]
  },
  {
   "cell_type": "markdown",
   "metadata": {},
   "source": [
    "Таким образом:\n",
    "- Качество у логистической регрессии над всеми исходными признаками: ~0.71658\n",
    "- Выше качества градиентного бустинга на ~2.5%. Т.е логистическая лучше находит зависимости в текущих данных.\n",
    "- Логистическая регрессия работает намного быстрее градиентного бустинга."
   ]
  },
  {
   "cell_type": "markdown",
   "metadata": {},
   "source": [
    "Попробовать удалить категориальные признаки, которые присутствуют в выборке и используются как числовые и провести кросс валидацию с подбором параметра на новой выборке:"
   ]
  },
  {
   "cell_type": "code",
   "execution_count": 123,
   "metadata": {},
   "outputs": [],
   "source": [
    "# Удалить колонки с категориальными признаками\n",
    "x_data_cat_dropped = x_data.drop(['lobby_type'], axis=1)\n",
    "for i in range(1, 6):\n",
    "    x_data_cat_dropped = x_data_cat_dropped.drop([\"r\" + str(i) + \"_hero\"], axis=1)\n",
    "    x_data_cat_dropped = x_data_cat_dropped.drop([\"d\" + str(i) + \"_hero\"], axis=1)"
   ]
  },
  {
   "cell_type": "code",
   "execution_count": 124,
   "metadata": {},
   "outputs": [
    {
     "name": "stdout",
     "output_type": "stream",
     "text": [
      "Time: 0:00:05.271552\n",
      "Time: 0:00:05.467514\n",
      "Time: 0:00:05.734954\n",
      "Time: 0:00:05.558326\n",
      "Time: 0:00:05.468697\n",
      "Time: 0:00:05.101692\n",
      "Time: 0:00:05.345313\n",
      "Time: 0:00:05.170439\n",
      "Time: 0:00:05.446581\n",
      "Time: 0:00:05.075512\n",
      "Time: 0:00:05.237861\n",
      "Time: 0:00:05.009767\n",
      "Time: 0:00:05.162379\n",
      "Time: 0:00:05.523853\n",
      "Time: 0:00:05.310738\n",
      "Max quality:  0.71661\n",
      "Max quality C:  1.4\n"
     ]
    }
   ],
   "source": [
    "# Масштабировать данные, провести кросс валидицаю с подбором параметра\n",
    "\n",
    "X_cat_dropped = scale_data(x_data_cat_dropped.values)\n",
    "\n",
    "qualities = process_lr(kf, X_cat_dropped, y, c_list_iterator)\n",
    "max_q, best_c = get_best_quality_c(qualities, start, step)\n",
    "\n",
    "print(\"Max quality: \", max_q)\n",
    "print(\"Max quality C: \", best_c)"
   ]
  },
  {
   "cell_type": "markdown",
   "metadata": {},
   "source": [
    "Как можно видеть, качество не сильно изменилось (0.71658 C = 3.2 и 0.71661 C = 1.4). Это можно обосновать тем, что использование категориальных признаков в форме числовых не несёт в себе какой-либо важной информации для определения победителя (бессмысленно сравнивать id героев)"
   ]
  },
  {
   "cell_type": "markdown",
   "metadata": {},
   "source": [
    "Колличество уникальных идентификаторов героев:"
   ]
  },
  {
   "cell_type": "code",
   "execution_count": 125,
   "metadata": {},
   "outputs": [
    {
     "name": "stdout",
     "output_type": "stream",
     "text": [
      "Unic heroes: [1, 2, 3, 4, 5, 6, 7, 8, 9, 10, 11, 12, 13, 14, 15, 16, 17, 18, 19, 20, 21, 22, 23, 25, 26, 27, 28, 29, 30, 31, 32, 33, 34, 35, 36, 37, 38, 39, 40, 41, 42, 43, 44, 45, 46, 47, 48, 49, 50, 51, 52, 53, 54, 55, 56, 57, 58, 59, 60, 61, 62, 63, 64, 65, 66, 67, 68, 69, 70, 71, 72, 73, 74, 75, 76, 77, 78, 79, 80, 81, 82, 83, 84, 85, 86, 87, 88, 89, 90, 91, 92, 93, 94, 95, 96, 97, 98, 99, 100, 101, 102, 103, 104, 105, 106, 109, 110, 112]\n",
      "Unic heroes id quantity: 108\n"
     ]
    }
   ],
   "source": [
    "hero_columns = []\n",
    "for i in range(1, 6):\n",
    "    hero_columns.append(\"r\" + str(i) + \"_hero\")\n",
    "    hero_columns.append(\"d\" + str(i) + \"_hero\")\n",
    "unic_ids = pd.unique(data[hero_columns].values.ravel())\n",
    "heroes_quantity = len(unic_ids)\n",
    "print(\"Unic heroes:\", sorted(unic_ids))\n",
    "print(\"Unic heroes id quantity:\", heroes_quantity)"
   ]
  },
  {
   "cell_type": "markdown",
   "metadata": {},
   "source": [
    "Можно видеть, что всего героев в доте 112, однако в выборке присутствуют не все."
   ]
  },
  {
   "cell_type": "markdown",
   "metadata": {},
   "source": [
    "Воспользуемся подходом \"мешок слов\" для кодирования информации о героях. Сформировать N признаков, при этом i-й будет равен нулю, если i-й герой не участвовал в матче; единице, если i-й герой играл за команду Radiant; минус единице, если i-й герой играл за команду Dire."
   ]
  },
  {
   "cell_type": "code",
   "execution_count": 126,
   "metadata": {},
   "outputs": [],
   "source": [
    "def process_categorial(heroes_quantity, x_data, X):\n",
    "    X_pick = np.zeros((x_data.shape[0], heroes_quantity + 4))\n",
    "\n",
    "    for i, match_id in enumerate(x_data.index):\n",
    "        for p in range(5):\n",
    "            X_pick[i, x_data.loc[match_id, 'r%d_hero' % (p + 1)] - 1] = 1\n",
    "            X_pick[i, x_data.loc[match_id, 'd%d_hero' % (p + 1)] - 1] = -1\n",
    "    return np.hstack((X, X_pick))\n",
    "\n",
    "X = process_categorial(heroes_quantity, x_data, X)"
   ]
  },
  {
   "cell_type": "markdown",
   "metadata": {},
   "source": [
    "Провести кросс-валидацию для логистической регрессии на новой выборке с подбором лучшего параметра регуляризации:\n"
   ]
  },
  {
   "cell_type": "code",
   "execution_count": 127,
   "metadata": {},
   "outputs": [
    {
     "name": "stdout",
     "output_type": "stream",
     "text": [
      "Time: 0:00:22.198965\n",
      "Time: 0:00:23.716637\n",
      "Time: 0:00:24.036488\n",
      "Time: 0:00:23.381655\n",
      "Time: 0:00:24.070064\n",
      "Time: 0:00:22.929197\n",
      "Time: 0:00:23.858598\n",
      "Time: 0:00:24.831898\n",
      "Time: 0:00:24.246632\n",
      "Time: 0:00:24.221710\n",
      "Time: 0:00:22.411355\n",
      "Time: 0:00:22.479830\n",
      "Time: 0:00:22.382260\n",
      "Time: 0:00:22.026595\n",
      "Time: 0:00:22.823755\n",
      "Max quality:  0.75204\n",
      "Max quality C:  1.4\n"
     ]
    }
   ],
   "source": [
    "qualities = process_lr(kf, X, y, c_list_iterator)\n",
    "max_q, best_c = get_best_quality_c(qualities, start, step)\n",
    "\n",
    "print(\"Max quality: \", max_q)\n",
    "print(\"Max quality C: \", best_c)"
   ]
  },
  {
   "cell_type": "markdown",
   "metadata": {},
   "source": [
    "Качество: 0.75204 при С = 1.4. После использование мешка слов качество заметно улучшилось. Это связано с тем, что комманда имеет больший шанс выйграть, если в ней присутствуют определенные герои."
   ]
  },
  {
   "cell_type": "markdown",
   "metadata": {},
   "source": [
    "Обучим и сохраним итоговую модель:"
   ]
  },
  {
   "cell_type": "code",
   "execution_count": 128,
   "metadata": {},
   "outputs": [
    {
     "data": {
      "text/plain": [
       "['lr.joblib']"
      ]
     },
     "execution_count": 128,
     "metadata": {},
     "output_type": "execute_result"
    }
   ],
   "source": [
    "lr = LogisticRegression(penalty='l2', C=best_c, solver=\"lbfgs\", max_iter=200)\n",
    "for train_index, test_index in kf.split(X):\n",
    "        x_train, x_test = X[train_index], X[test_index]\n",
    "        y_train, y_test = y[train_index], y[test_index]\n",
    "\n",
    "        lr = lr.fit(x_train, y_train)\n",
    "dump(lr, \"lr.joblib\")\n"
   ]
  },
  {
   "cell_type": "markdown",
   "metadata": {},
   "source": [
    "## Проверка финальной модели"
   ]
  },
  {
   "cell_type": "code",
   "execution_count": 135,
   "metadata": {},
   "outputs": [],
   "source": [
    "def prepare_test_data_lr():\n",
    "    # Считать набор данных для теста\n",
    "    data = pd.read_csv('./features_test.csv', index_col='match_id')\n",
    "    # Заполнить пропущенные значения\n",
    "    data[columns_with_empty] = data[columns_with_empty].fillna(value=0, inplace=False)\n",
    "    # Масштабировать данные\n",
    "    X_scaled = scale_data(data.values)\n",
    "    # Подготовить категориальные данные\n",
    "    X = process_categorial(108, data, X_scaled)\n",
    "    return X, data\n",
    "\n",
    "def test_lr(X, data):\n",
    "    # Загрузить сохраненную модель логистической регрессии\n",
    "    clf = load(\"lr.joblib\")\n",
    "    predictions_df = pd.DataFrame(clf.predict_proba(X))\n",
    "    predictions_df.columns = ['dire_win', 'radiant_win']\n",
    "    predictions_df.index = data.index\n",
    "    print(predictions_df.head())\n",
    "    print(\"Mean:\\n\", predictions_df.mean())\n",
    "    print(\"Max prob. radiant win: \", max(predictions_df['radiant_win']))  # 0.9966559346546404\n",
    "    print(\"Min prob. radiant win: \", min(predictions_df['radiant_win']))  # 0.00956029948527895\n",
    "    result = predictions_df.drop(['dire_win'], axis=1)\n",
    "    result.to_csv('./result.csv')"
   ]
  },
  {
   "cell_type": "code",
   "execution_count": 136,
   "metadata": {},
   "outputs": [
    {
     "name": "stdout",
     "output_type": "stream",
     "text": [
      "          dire_win  radiant_win\n",
      "match_id                       \n",
      "6         0.175828     0.824172\n",
      "7         0.244883     0.755117\n",
      "10        0.816023     0.183977\n",
      "13        0.161980     0.838020\n",
      "16        0.776659     0.223341\n",
      "Mean:\n",
      " dire_win       0.481833\n",
      "radiant_win    0.518167\n",
      "dtype: float64\n",
      "Max prob. radiant win:  0.9966875459601456\n",
      "Min prob. radiant win:  0.008568222184926852\n"
     ]
    }
   ],
   "source": [
    "X, data = prepare_test_data_lr()\n",
    "test_lr(X, data)"
   ]
  },
  {
   "cell_type": "markdown",
   "metadata": {},
   "source": [
    "Максимальная вероятность победить у radiant: 0.9966875459601456;\n",
    "Минимальная вероятность победить у radiant: 0.008568222184926852;\n",
    "Таким образом предсказания находятся на отрезке [0:1].\n",
    "Также можно сделать вывод, что в среднем вероятность победы у radiant немного выше, чем у dire."
   ]
  }
 ],
 "metadata": {
  "kernelspec": {
   "display_name": "Python 3",
   "language": "python",
   "name": "python3"
  },
  "language_info": {
   "codemirror_mode": {
    "name": "ipython",
    "version": 3
   },
   "file_extension": ".py",
   "mimetype": "text/x-python",
   "name": "python",
   "nbconvert_exporter": "python",
   "pygments_lexer": "ipython3",
   "version": "3.7.1"
  }
 },
 "nbformat": 4,
 "nbformat_minor": 1
}
